{
 "cells": [
  {
   "cell_type": "code",
   "execution_count": 10,
   "metadata": {},
   "outputs": [
    {
     "name": "stdout",
     "output_type": "stream",
     "text": [
      "0\n",
      "2\n",
      "4\n",
      "6\n",
      "8\n"
     ]
    }
   ],
   "source": [
    "for i in range(0,10,2):\n",
    "    print(i)"
   ]
  },
  {
   "cell_type": "code",
   "execution_count": 11,
   "metadata": {},
   "outputs": [
    {
     "name": "stdout",
     "output_type": "stream",
     "text": [
      "[2, 3, 5, 7, 11, 13, 17, 19, 23, 29, 31, 37, 41, 43, 47, 53, 59, 61, 67, 71, 73, 79, 83, 89, 97]\n"
     ]
    }
   ],
   "source": [
    "def primee():\n",
    "    a=[2]\n",
    "    for i in range(3, 100):\n",
    "        isprime=True\n",
    "        for j in range(2,int(i*0.5)+1):\n",
    "            if i%j==0:\n",
    "                isprime=False\n",
    "                break\n",
    "        if isprime:\n",
    "            a.append(i)\n",
    "    return a   \n",
    "aa=primee()\n",
    "print(aa)   "
   ]
  },
  {
   "cell_type": "markdown",
   "metadata": {},
   "source": [
    "##### 👇 this palindrom function works for strings"
   ]
  },
  {
   "cell_type": "code",
   "execution_count": 12,
   "metadata": {},
   "outputs": [],
   "source": [
    "def pandro(num):\n",
    "    num=str(num)\n",
    "    if num==num[::-1]:\n",
    "        return True\n",
    "    else:\n",
    "        return False\n",
    "    \n",
    "    \n",
    "pan1=pandro('12231')\n"
   ]
  },
  {
   "cell_type": "code",
   "execution_count": 19,
   "metadata": {},
   "outputs": [
    {
     "name": "stdout",
     "output_type": "stream",
     "text": [
      "checking a list of number\n",
      "121 is palindrom \n",
      "12321 is palindrom \n",
      "232 is palindrom \n",
      "5252 is not a palindrom \n",
      "6 is palindrom \n",
      "5 is palindrom \n"
     ]
    }
   ],
   "source": [
    "lists=['121','12321','232','5252',6,5]\n",
    "print(r'checking a list of number' )\n",
    "for item in lists:\n",
    "    if pandro(item):\n",
    "        print(f\"{item} is palindrom \")\n",
    "    else:\n",
    "        print(f\"{item} is not a palindrom \")"
   ]
  }
 ],
 "metadata": {
  "kernelspec": {
   "display_name": "Python 3",
   "language": "python",
   "name": "python3"
  },
  "language_info": {
   "codemirror_mode": {
    "name": "ipython",
    "version": 3
   },
   "file_extension": ".py",
   "mimetype": "text/x-python",
   "name": "python",
   "nbconvert_exporter": "python",
   "pygments_lexer": "ipython3",
   "version": "3.11.5"
  }
 },
 "nbformat": 4,
 "nbformat_minor": 2
}
